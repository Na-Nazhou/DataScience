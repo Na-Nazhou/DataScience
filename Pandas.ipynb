{
  "nbformat": 4,
  "nbformat_minor": 0,
  "metadata": {
    "colab": {
      "name": "Pandas.ipynb",
      "provenance": [],
      "collapsed_sections": [],
      "authorship_tag": "ABX9TyM1T4a18UcB676C6FA+GNKR",
      "include_colab_link": true
    },
    "kernelspec": {
      "name": "python3",
      "display_name": "Python 3"
    }
  },
  "cells": [
    {
      "cell_type": "markdown",
      "metadata": {
        "id": "view-in-github",
        "colab_type": "text"
      },
      "source": [
        "<a href=\"https://colab.research.google.com/github/Na-Nazhou/DataScience/blob/master/Pandas.ipynb\" target=\"_parent\"><img src=\"https://colab.research.google.com/assets/colab-badge.svg\" alt=\"Open In Colab\"/></a>"
      ]
    },
    {
      "cell_type": "code",
      "metadata": {
        "id": "TRBP6dzXLNX-",
        "colab_type": "code",
        "colab": {}
      },
      "source": [
        "import pandas as pd"
      ],
      "execution_count": 2,
      "outputs": []
    },
    {
      "cell_type": "markdown",
      "metadata": {
        "id": "-PSsYINQrmAw",
        "colab_type": "text"
      },
      "source": [
        "Create a DataFrame with **List of Lists**"
      ]
    },
    {
      "cell_type": "code",
      "metadata": {
        "id": "ukCsAHyollfn",
        "colab_type": "code",
        "colab": {
          "base_uri": "https://localhost:8080/",
          "height": 142
        },
        "outputId": "f9e3891a-5c3e-4c02-b382-47ed51667961"
      },
      "source": [
        "data = [\n",
        "        ['Alex', 20, 1050],\n",
        "        ['Bob', 52, 1400],\n",
        "        ['Cat', 23, 1690]\n",
        "]\n",
        "df = pd.DataFrame(data, columns = ['name', 'age', 'salary'])\n",
        "df"
      ],
      "execution_count": null,
      "outputs": [
        {
          "output_type": "execute_result",
          "data": {
            "text/html": [
              "<div>\n",
              "<style scoped>\n",
              "    .dataframe tbody tr th:only-of-type {\n",
              "        vertical-align: middle;\n",
              "    }\n",
              "\n",
              "    .dataframe tbody tr th {\n",
              "        vertical-align: top;\n",
              "    }\n",
              "\n",
              "    .dataframe thead th {\n",
              "        text-align: right;\n",
              "    }\n",
              "</style>\n",
              "<table border=\"1\" class=\"dataframe\">\n",
              "  <thead>\n",
              "    <tr style=\"text-align: right;\">\n",
              "      <th></th>\n",
              "      <th>name</th>\n",
              "      <th>age</th>\n",
              "      <th>salary</th>\n",
              "    </tr>\n",
              "  </thead>\n",
              "  <tbody>\n",
              "    <tr>\n",
              "      <th>0</th>\n",
              "      <td>Alex</td>\n",
              "      <td>20</td>\n",
              "      <td>1050</td>\n",
              "    </tr>\n",
              "    <tr>\n",
              "      <th>1</th>\n",
              "      <td>Bob</td>\n",
              "      <td>52</td>\n",
              "      <td>1400</td>\n",
              "    </tr>\n",
              "    <tr>\n",
              "      <th>2</th>\n",
              "      <td>Cat</td>\n",
              "      <td>23</td>\n",
              "      <td>1690</td>\n",
              "    </tr>\n",
              "  </tbody>\n",
              "</table>\n",
              "</div>"
            ],
            "text/plain": [
              "   name  age  salary\n",
              "0  Alex   20    1050\n",
              "1   Bob   52    1400\n",
              "2   Cat   23    1690"
            ]
          },
          "metadata": {
            "tags": []
          },
          "execution_count": 64
        }
      ]
    },
    {
      "cell_type": "markdown",
      "metadata": {
        "id": "zLjW1eH8roZq",
        "colab_type": "text"
      },
      "source": [
        "Create a DataFrame with **List of Dictionaries**"
      ]
    },
    {
      "cell_type": "code",
      "metadata": {
        "id": "AKNTU5Atmave",
        "colab_type": "code",
        "colab": {
          "base_uri": "https://localhost:8080/",
          "height": 142
        },
        "outputId": "24b71407-2b86-4826-c4c1-8e89fc600ce0"
      },
      "source": [
        "data = [\n",
        "        {'name': 'Alex', 'age': 20, 'salary': 1050},\n",
        "        {'name': 'Bob', 'age': 52, 'salary': 1400},\n",
        "        {'name': 'Cat', 'age': 23, 'salary': 1690}\n",
        "]\n",
        "df = pd.DataFrame(data, columns = ['name', 'age', 'salary'])\n",
        "df"
      ],
      "execution_count": null,
      "outputs": [
        {
          "output_type": "execute_result",
          "data": {
            "text/html": [
              "<div>\n",
              "<style scoped>\n",
              "    .dataframe tbody tr th:only-of-type {\n",
              "        vertical-align: middle;\n",
              "    }\n",
              "\n",
              "    .dataframe tbody tr th {\n",
              "        vertical-align: top;\n",
              "    }\n",
              "\n",
              "    .dataframe thead th {\n",
              "        text-align: right;\n",
              "    }\n",
              "</style>\n",
              "<table border=\"1\" class=\"dataframe\">\n",
              "  <thead>\n",
              "    <tr style=\"text-align: right;\">\n",
              "      <th></th>\n",
              "      <th>name</th>\n",
              "      <th>age</th>\n",
              "      <th>salary</th>\n",
              "    </tr>\n",
              "  </thead>\n",
              "  <tbody>\n",
              "    <tr>\n",
              "      <th>0</th>\n",
              "      <td>Alex</td>\n",
              "      <td>20</td>\n",
              "      <td>1050</td>\n",
              "    </tr>\n",
              "    <tr>\n",
              "      <th>1</th>\n",
              "      <td>Bob</td>\n",
              "      <td>52</td>\n",
              "      <td>1400</td>\n",
              "    </tr>\n",
              "    <tr>\n",
              "      <th>2</th>\n",
              "      <td>Cat</td>\n",
              "      <td>23</td>\n",
              "      <td>1690</td>\n",
              "    </tr>\n",
              "  </tbody>\n",
              "</table>\n",
              "</div>"
            ],
            "text/plain": [
              "   name  age  salary\n",
              "0  Alex   20    1050\n",
              "1   Bob   52    1400\n",
              "2   Cat   23    1690"
            ]
          },
          "metadata": {
            "tags": []
          },
          "execution_count": 65
        }
      ]
    },
    {
      "cell_type": "markdown",
      "metadata": {
        "id": "uV2axB1Ysmpg",
        "colab_type": "text"
      },
      "source": [
        "Create a DataFrame with **Dictionary**"
      ]
    },
    {
      "cell_type": "code",
      "metadata": {
        "id": "anqbJwBislZg",
        "colab_type": "code",
        "colab": {
          "base_uri": "https://localhost:8080/",
          "height": 266
        },
        "outputId": "8dfbf733-987c-4f81-93a6-5105fb3218f4"
      },
      "source": [
        "student = [\"Anna\",\"Bob\",\"Cass\",\"Darius\",\"Eugene\",\"Felica\",\"Gordon\"]\n",
        "classroom = [\"A\",\"A\",\"B\",\"A\",\"B\",\"B\",\"B\"]\n",
        "age = [15,15,16,17,15,18,15]\n",
        "score =  [80,82,95,70,67,98,85]\n",
        "data = {\"Student\": student, \"Class\": classroom, \"Age\": age, \"Score\": score}\n",
        "df = pd.DataFrame(data)\n",
        "df"
      ],
      "execution_count": null,
      "outputs": [
        {
          "output_type": "execute_result",
          "data": {
            "text/html": [
              "<div>\n",
              "<style scoped>\n",
              "    .dataframe tbody tr th:only-of-type {\n",
              "        vertical-align: middle;\n",
              "    }\n",
              "\n",
              "    .dataframe tbody tr th {\n",
              "        vertical-align: top;\n",
              "    }\n",
              "\n",
              "    .dataframe thead th {\n",
              "        text-align: right;\n",
              "    }\n",
              "</style>\n",
              "<table border=\"1\" class=\"dataframe\">\n",
              "  <thead>\n",
              "    <tr style=\"text-align: right;\">\n",
              "      <th></th>\n",
              "      <th>Student</th>\n",
              "      <th>Class</th>\n",
              "      <th>Age</th>\n",
              "      <th>Score</th>\n",
              "    </tr>\n",
              "  </thead>\n",
              "  <tbody>\n",
              "    <tr>\n",
              "      <th>0</th>\n",
              "      <td>Anna</td>\n",
              "      <td>A</td>\n",
              "      <td>15</td>\n",
              "      <td>80</td>\n",
              "    </tr>\n",
              "    <tr>\n",
              "      <th>1</th>\n",
              "      <td>Bob</td>\n",
              "      <td>A</td>\n",
              "      <td>15</td>\n",
              "      <td>82</td>\n",
              "    </tr>\n",
              "    <tr>\n",
              "      <th>2</th>\n",
              "      <td>Cass</td>\n",
              "      <td>B</td>\n",
              "      <td>16</td>\n",
              "      <td>95</td>\n",
              "    </tr>\n",
              "    <tr>\n",
              "      <th>3</th>\n",
              "      <td>Darius</td>\n",
              "      <td>A</td>\n",
              "      <td>17</td>\n",
              "      <td>70</td>\n",
              "    </tr>\n",
              "    <tr>\n",
              "      <th>4</th>\n",
              "      <td>Eugene</td>\n",
              "      <td>B</td>\n",
              "      <td>15</td>\n",
              "      <td>67</td>\n",
              "    </tr>\n",
              "    <tr>\n",
              "      <th>5</th>\n",
              "      <td>Felica</td>\n",
              "      <td>B</td>\n",
              "      <td>18</td>\n",
              "      <td>98</td>\n",
              "    </tr>\n",
              "    <tr>\n",
              "      <th>6</th>\n",
              "      <td>Gordon</td>\n",
              "      <td>B</td>\n",
              "      <td>15</td>\n",
              "      <td>85</td>\n",
              "    </tr>\n",
              "  </tbody>\n",
              "</table>\n",
              "</div>"
            ],
            "text/plain": [
              "  Student Class  Age  Score\n",
              "0    Anna     A   15     80\n",
              "1     Bob     A   15     82\n",
              "2    Cass     B   16     95\n",
              "3  Darius     A   17     70\n",
              "4  Eugene     B   15     67\n",
              "5  Felica     B   18     98\n",
              "6  Gordon     B   15     85"
            ]
          },
          "metadata": {
            "tags": []
          },
          "execution_count": 66
        }
      ]
    },
    {
      "cell_type": "markdown",
      "metadata": {
        "id": "c3ywQqYwPsvo",
        "colab_type": "text"
      },
      "source": [
        "CSV in Python"
      ]
    },
    {
      "cell_type": "code",
      "metadata": {
        "id": "AZZnyr0vPrlr",
        "colab_type": "code",
        "colab": {}
      },
      "source": [
        "# TODO\n",
        "import csv\n",
        "with open('unit05-data.csv', newline='') as csvfile:\n",
        "  reader = csv.reader(csvfile, delimiter=' ', quotechar='|')\n",
        "  for row in reader:\n",
        "    print(', '.join(row))"
      ],
      "execution_count": null,
      "outputs": []
    },
    {
      "cell_type": "markdown",
      "metadata": {
        "id": "Te5SPgnZr-6E",
        "colab_type": "text"
      },
      "source": [
        "CSV in Pandas: **read_csv()**"
      ]
    },
    {
      "cell_type": "code",
      "metadata": {
        "id": "_pN2fbC2qDY7",
        "colab_type": "code",
        "colab": {
          "base_uri": "https://localhost:8080/",
          "height": 419
        },
        "outputId": "aa028633-5a34-470b-907d-da78f313ff95"
      },
      "source": [
        "df = pd.read_csv('unit05-data.csv')\n",
        "df"
      ],
      "execution_count": 3,
      "outputs": [
        {
          "output_type": "execute_result",
          "data": {
            "text/html": [
              "<div>\n",
              "<style scoped>\n",
              "    .dataframe tbody tr th:only-of-type {\n",
              "        vertical-align: middle;\n",
              "    }\n",
              "\n",
              "    .dataframe tbody tr th {\n",
              "        vertical-align: top;\n",
              "    }\n",
              "\n",
              "    .dataframe thead th {\n",
              "        text-align: right;\n",
              "    }\n",
              "</style>\n",
              "<table border=\"1\" class=\"dataframe\">\n",
              "  <thead>\n",
              "    <tr style=\"text-align: right;\">\n",
              "      <th></th>\n",
              "      <th>country</th>\n",
              "      <th>iso2</th>\n",
              "      <th>iso3</th>\n",
              "      <th>Region Code</th>\n",
              "      <th>year</th>\n",
              "      <th>Total Population</th>\n",
              "      <th>Estimated incidence (all forms) per 100 000 population</th>\n",
              "    </tr>\n",
              "  </thead>\n",
              "  <tbody>\n",
              "    <tr>\n",
              "      <th>0</th>\n",
              "      <td>Afghanistan</td>\n",
              "      <td>AF</td>\n",
              "      <td>AFG</td>\n",
              "      <td>EMR</td>\n",
              "      <td>2000</td>\n",
              "      <td>20093756</td>\n",
              "      <td>190.0</td>\n",
              "    </tr>\n",
              "    <tr>\n",
              "      <th>1</th>\n",
              "      <td>Afghanistan</td>\n",
              "      <td>AF</td>\n",
              "      <td>AFG</td>\n",
              "      <td>EMR</td>\n",
              "      <td>2001</td>\n",
              "      <td>20966463</td>\n",
              "      <td>189.0</td>\n",
              "    </tr>\n",
              "    <tr>\n",
              "      <th>2</th>\n",
              "      <td>Afghanistan</td>\n",
              "      <td>AF</td>\n",
              "      <td>AFG</td>\n",
              "      <td>EMR</td>\n",
              "      <td>2002</td>\n",
              "      <td>21979923</td>\n",
              "      <td>189.0</td>\n",
              "    </tr>\n",
              "    <tr>\n",
              "      <th>3</th>\n",
              "      <td>Afghanistan</td>\n",
              "      <td>AF</td>\n",
              "      <td>AFG</td>\n",
              "      <td>EMR</td>\n",
              "      <td>2003</td>\n",
              "      <td>23064851</td>\n",
              "      <td>189.0</td>\n",
              "    </tr>\n",
              "    <tr>\n",
              "      <th>4</th>\n",
              "      <td>Afghanistan</td>\n",
              "      <td>AF</td>\n",
              "      <td>AFG</td>\n",
              "      <td>EMR</td>\n",
              "      <td>2004</td>\n",
              "      <td>24118979</td>\n",
              "      <td>189.0</td>\n",
              "    </tr>\n",
              "    <tr>\n",
              "      <th>...</th>\n",
              "      <td>...</td>\n",
              "      <td>...</td>\n",
              "      <td>...</td>\n",
              "      <td>...</td>\n",
              "      <td>...</td>\n",
              "      <td>...</td>\n",
              "      <td>...</td>\n",
              "    </tr>\n",
              "    <tr>\n",
              "      <th>3646</th>\n",
              "      <td>Zimbabwe</td>\n",
              "      <td>ZW</td>\n",
              "      <td>ZWE</td>\n",
              "      <td>AFR</td>\n",
              "      <td>2012</td>\n",
              "      <td>14710826</td>\n",
              "      <td>355.0</td>\n",
              "    </tr>\n",
              "    <tr>\n",
              "      <th>3647</th>\n",
              "      <td>Zimbabwe</td>\n",
              "      <td>ZW</td>\n",
              "      <td>ZWE</td>\n",
              "      <td>AFR</td>\n",
              "      <td>2013</td>\n",
              "      <td>15054506</td>\n",
              "      <td>304.0</td>\n",
              "    </tr>\n",
              "    <tr>\n",
              "      <th>3648</th>\n",
              "      <td>Zimbabwe</td>\n",
              "      <td>ZW</td>\n",
              "      <td>ZWE</td>\n",
              "      <td>AFR</td>\n",
              "      <td>2014</td>\n",
              "      <td>15411675</td>\n",
              "      <td>278.0</td>\n",
              "    </tr>\n",
              "    <tr>\n",
              "      <th>3649</th>\n",
              "      <td>Zimbabwe</td>\n",
              "      <td>ZW</td>\n",
              "      <td>ZWE</td>\n",
              "      <td>AFR</td>\n",
              "      <td>2015</td>\n",
              "      <td>15777451</td>\n",
              "      <td>242.0</td>\n",
              "    </tr>\n",
              "    <tr>\n",
              "      <th>3650</th>\n",
              "      <td>Zimbabwe</td>\n",
              "      <td>ZW</td>\n",
              "      <td>ZWE</td>\n",
              "      <td>AFR</td>\n",
              "      <td>2016</td>\n",
              "      <td>16150362</td>\n",
              "      <td>208.0</td>\n",
              "    </tr>\n",
              "  </tbody>\n",
              "</table>\n",
              "<p>3651 rows × 7 columns</p>\n",
              "</div>"
            ],
            "text/plain": [
              "          country  ... Estimated incidence (all forms) per 100 000 population\n",
              "0     Afghanistan  ...                                              190.0    \n",
              "1     Afghanistan  ...                                              189.0    \n",
              "2     Afghanistan  ...                                              189.0    \n",
              "3     Afghanistan  ...                                              189.0    \n",
              "4     Afghanistan  ...                                              189.0    \n",
              "...           ...  ...                                                ...    \n",
              "3646     Zimbabwe  ...                                              355.0    \n",
              "3647     Zimbabwe  ...                                              304.0    \n",
              "3648     Zimbabwe  ...                                              278.0    \n",
              "3649     Zimbabwe  ...                                              242.0    \n",
              "3650     Zimbabwe  ...                                              208.0    \n",
              "\n",
              "[3651 rows x 7 columns]"
            ]
          },
          "metadata": {
            "tags": []
          },
          "execution_count": 3
        }
      ]
    },
    {
      "cell_type": "code",
      "metadata": {
        "id": "X619alI7Of0o",
        "colab_type": "code",
        "colab": {
          "base_uri": "https://localhost:8080/",
          "height": 255
        },
        "outputId": "cf25396c-a343-4eb5-a9ff-ca6aea3aa89e"
      },
      "source": [
        "df.info()"
      ],
      "execution_count": 4,
      "outputs": [
        {
          "output_type": "stream",
          "text": [
            "<class 'pandas.core.frame.DataFrame'>\n",
            "RangeIndex: 3651 entries, 0 to 3650\n",
            "Data columns (total 7 columns):\n",
            " #   Column                                                  Non-Null Count  Dtype  \n",
            "---  ------                                                  --------------  -----  \n",
            " 0   country                                                 3651 non-null   object \n",
            " 1   iso2                                                    3634 non-null   object \n",
            " 2   iso3                                                    3651 non-null   object \n",
            " 3   Region Code                                             3651 non-null   object \n",
            " 4   year                                                    3651 non-null   int64  \n",
            " 5   Total Population                                        3651 non-null   int64  \n",
            " 6   Estimated incidence (all forms) per 100 000 population  3651 non-null   float64\n",
            "dtypes: float64(1), int64(2), object(4)\n",
            "memory usage: 199.8+ KB\n"
          ],
          "name": "stdout"
        }
      ]
    },
    {
      "cell_type": "markdown",
      "metadata": {
        "id": "RonOCRpVsDtW",
        "colab_type": "text"
      },
      "source": [
        "Extracting **Row** from DataFrame: **loc[index]**"
      ]
    },
    {
      "cell_type": "code",
      "metadata": {
        "id": "__t4I2rVq69Y",
        "colab_type": "code",
        "colab": {
          "base_uri": "https://localhost:8080/",
          "height": 85
        },
        "outputId": "8b5a67f3-9f95-4c39-f192-6ebc27bd8e7d"
      },
      "source": [
        "data = [\n",
        "        {'name':'Alex','age':20,'salary':1050},\n",
        "        {'name':'Bob','age':52,'salary':1400},\n",
        "        {'name':'Cat','age':23,'salary':1690}\n",
        "]\n",
        "\n",
        "df = pd.DataFrame(data, columns = ['name','age','salary'])\n",
        "df.loc[0]"
      ],
      "execution_count": 9,
      "outputs": [
        {
          "output_type": "execute_result",
          "data": {
            "text/plain": [
              "name      Alex\n",
              "age         20\n",
              "salary    1050\n",
              "Name: 0, dtype: object"
            ]
          },
          "metadata": {
            "tags": []
          },
          "execution_count": 9
        }
      ]
    },
    {
      "cell_type": "markdown",
      "metadata": {
        "id": "A403EznDsGu6",
        "colab_type": "text"
      },
      "source": [
        "Extracting **Column** from DataFrame"
      ]
    },
    {
      "cell_type": "code",
      "metadata": {
        "id": "e11OBes-rdks",
        "colab_type": "code",
        "colab": {
          "base_uri": "https://localhost:8080/",
          "height": 85
        },
        "outputId": "0c939eb7-00a6-4dcd-84e4-75ab624f0e4c"
      },
      "source": [
        "data = [\n",
        "        {'name':'Alex','age':20,'salary':1050},\n",
        "        {'name':'Bob','age':52,'salary':1400},\n",
        "        {'name':'Cat','age':23,'salary':1690}\n",
        "]\n",
        "\n",
        "df = pd.DataFrame(data, columns = ['name','age','salary'])\n",
        "df['name']                                                                             #or df.name but do not recommend"
      ],
      "execution_count": 10,
      "outputs": [
        {
          "output_type": "execute_result",
          "data": {
            "text/plain": [
              "0    Alex\n",
              "1     Bob\n",
              "2     Cat\n",
              "Name: name, dtype: object"
            ]
          },
          "metadata": {
            "tags": []
          },
          "execution_count": 10
        }
      ]
    },
    {
      "cell_type": "markdown",
      "metadata": {
        "id": "MZWyz-f_sKhY",
        "colab_type": "text"
      },
      "source": [
        "Grouping & Aggregation: **groupby, agg**"
      ]
    },
    {
      "cell_type": "code",
      "metadata": {
        "id": "3jLELHMyrkxs",
        "colab_type": "code",
        "colab": {
          "base_uri": "https://localhost:8080/",
          "height": 173
        },
        "outputId": "84851621-9840-4fd6-8092-ebf2dd7f0f00"
      },
      "source": [
        "student = [\"Anna\",\"Bob\",\"Cass\",\"Darius\",\"Eugene\",\"Felica\",\"Gordon\"]\n",
        "classroom = [\"A\",\"A\",\"B\",\"A\",\"B\",\"B\",\"B\"]\n",
        "age = [15,15,16,17,15,18,15]\n",
        "score =  [80,82,95,70,67,98,85]\n",
        "data = {\"Student\": student, \"Class\": classroom, \"Age\": age,\"Score\": score}\n",
        "df = pd.DataFrame(data)\n",
        "\n",
        "class_score = df.groupby('Class').agg({'Score': ['mean', 'min', 'max', 'median']})\n",
        "class_score"
      ],
      "execution_count": 11,
      "outputs": [
        {
          "output_type": "execute_result",
          "data": {
            "text/html": [
              "<div>\n",
              "<style scoped>\n",
              "    .dataframe tbody tr th:only-of-type {\n",
              "        vertical-align: middle;\n",
              "    }\n",
              "\n",
              "    .dataframe tbody tr th {\n",
              "        vertical-align: top;\n",
              "    }\n",
              "\n",
              "    .dataframe thead tr th {\n",
              "        text-align: left;\n",
              "    }\n",
              "\n",
              "    .dataframe thead tr:last-of-type th {\n",
              "        text-align: right;\n",
              "    }\n",
              "</style>\n",
              "<table border=\"1\" class=\"dataframe\">\n",
              "  <thead>\n",
              "    <tr>\n",
              "      <th></th>\n",
              "      <th colspan=\"4\" halign=\"left\">Score</th>\n",
              "    </tr>\n",
              "    <tr>\n",
              "      <th></th>\n",
              "      <th>mean</th>\n",
              "      <th>min</th>\n",
              "      <th>max</th>\n",
              "      <th>median</th>\n",
              "    </tr>\n",
              "    <tr>\n",
              "      <th>Class</th>\n",
              "      <th></th>\n",
              "      <th></th>\n",
              "      <th></th>\n",
              "      <th></th>\n",
              "    </tr>\n",
              "  </thead>\n",
              "  <tbody>\n",
              "    <tr>\n",
              "      <th>A</th>\n",
              "      <td>77.333333</td>\n",
              "      <td>70</td>\n",
              "      <td>82</td>\n",
              "      <td>80</td>\n",
              "    </tr>\n",
              "    <tr>\n",
              "      <th>B</th>\n",
              "      <td>86.250000</td>\n",
              "      <td>67</td>\n",
              "      <td>98</td>\n",
              "      <td>90</td>\n",
              "    </tr>\n",
              "  </tbody>\n",
              "</table>\n",
              "</div>"
            ],
            "text/plain": [
              "           Score               \n",
              "            mean min max median\n",
              "Class                          \n",
              "A      77.333333  70  82     80\n",
              "B      86.250000  67  98     90"
            ]
          },
          "metadata": {
            "tags": []
          },
          "execution_count": 11
        }
      ]
    },
    {
      "cell_type": "markdown",
      "metadata": {
        "id": "q90-7uB0tS2a",
        "colab_type": "text"
      },
      "source": [
        "Grouping by Multiple Columns"
      ]
    },
    {
      "cell_type": "code",
      "metadata": {
        "id": "eY98mCcJtTfW",
        "colab_type": "code",
        "colab": {
          "base_uri": "https://localhost:8080/",
          "height": 266
        },
        "outputId": "dd545fd8-3e5c-4b3a-f171-b5eb8de53633"
      },
      "source": [
        "student = [\"Anna\",\"Bob\",\"Cass\",\"Darius\",\"Eugene\",\"Felica\",\"Gordon\"]\n",
        "classroom = [\"A\",\"A\",\"B\",\"A\",\"B\",\"B\",\"B\"]\n",
        "age = [15,15,16,17,15,18,15]\n",
        "score =  [80,82,95,70,67,98,85]\n",
        "data = {\"Student\": student, \"Class\": classroom, \"Age\": age,\"Score\": score}\n",
        "df = pd.DataFrame(data)\n",
        "\n",
        "class_score = df.groupby(['Class','Age']).agg({'Score': ['mean', 'min', 'max', 'median']})\n",
        "class_score"
      ],
      "execution_count": 13,
      "outputs": [
        {
          "output_type": "execute_result",
          "data": {
            "text/html": [
              "<div>\n",
              "<style scoped>\n",
              "    .dataframe tbody tr th:only-of-type {\n",
              "        vertical-align: middle;\n",
              "    }\n",
              "\n",
              "    .dataframe tbody tr th {\n",
              "        vertical-align: top;\n",
              "    }\n",
              "\n",
              "    .dataframe thead tr th {\n",
              "        text-align: left;\n",
              "    }\n",
              "\n",
              "    .dataframe thead tr:last-of-type th {\n",
              "        text-align: right;\n",
              "    }\n",
              "</style>\n",
              "<table border=\"1\" class=\"dataframe\">\n",
              "  <thead>\n",
              "    <tr>\n",
              "      <th></th>\n",
              "      <th></th>\n",
              "      <th colspan=\"4\" halign=\"left\">Score</th>\n",
              "    </tr>\n",
              "    <tr>\n",
              "      <th></th>\n",
              "      <th></th>\n",
              "      <th>mean</th>\n",
              "      <th>min</th>\n",
              "      <th>max</th>\n",
              "      <th>median</th>\n",
              "    </tr>\n",
              "    <tr>\n",
              "      <th>Class</th>\n",
              "      <th>Age</th>\n",
              "      <th></th>\n",
              "      <th></th>\n",
              "      <th></th>\n",
              "      <th></th>\n",
              "    </tr>\n",
              "  </thead>\n",
              "  <tbody>\n",
              "    <tr>\n",
              "      <th rowspan=\"2\" valign=\"top\">A</th>\n",
              "      <th>15</th>\n",
              "      <td>81</td>\n",
              "      <td>80</td>\n",
              "      <td>82</td>\n",
              "      <td>81</td>\n",
              "    </tr>\n",
              "    <tr>\n",
              "      <th>17</th>\n",
              "      <td>70</td>\n",
              "      <td>70</td>\n",
              "      <td>70</td>\n",
              "      <td>70</td>\n",
              "    </tr>\n",
              "    <tr>\n",
              "      <th rowspan=\"3\" valign=\"top\">B</th>\n",
              "      <th>15</th>\n",
              "      <td>76</td>\n",
              "      <td>67</td>\n",
              "      <td>85</td>\n",
              "      <td>76</td>\n",
              "    </tr>\n",
              "    <tr>\n",
              "      <th>16</th>\n",
              "      <td>95</td>\n",
              "      <td>95</td>\n",
              "      <td>95</td>\n",
              "      <td>95</td>\n",
              "    </tr>\n",
              "    <tr>\n",
              "      <th>18</th>\n",
              "      <td>98</td>\n",
              "      <td>98</td>\n",
              "      <td>98</td>\n",
              "      <td>98</td>\n",
              "    </tr>\n",
              "  </tbody>\n",
              "</table>\n",
              "</div>"
            ],
            "text/plain": [
              "          Score               \n",
              "           mean min max median\n",
              "Class Age                     \n",
              "A     15     81  80  82     81\n",
              "      17     70  70  70     70\n",
              "B     15     76  67  85     76\n",
              "      16     95  95  95     95\n",
              "      18     98  98  98     98"
            ]
          },
          "metadata": {
            "tags": []
          },
          "execution_count": 13
        }
      ]
    },
    {
      "cell_type": "code",
      "metadata": {
        "id": "O8VEuRwwRsB3",
        "colab_type": "code",
        "colab": {}
      },
      "source": [
        "# TODO\n",
        "# Summarise the ages by gender and country\n",
        "# Unit05-Demo53.xls"
      ],
      "execution_count": null,
      "outputs": []
    },
    {
      "cell_type": "markdown",
      "metadata": {
        "id": "YUpwgMsIteex",
        "colab_type": "text"
      },
      "source": [
        "**Filtering**: Select Rows Based on Value of Column"
      ]
    },
    {
      "cell_type": "code",
      "metadata": {
        "id": "V8iGihbXthFl",
        "colab_type": "code",
        "colab": {
          "base_uri": "https://localhost:8080/",
          "height": 623
        },
        "outputId": "2a742432-3150-44d9-e235-2bfd74fd502f"
      },
      "source": [
        "df = pd.read_csv('unit05-data.csv')\n",
        "\n",
        "# boolean expression\n",
        "print(df['year'] == 2002)\n",
        "\n",
        "year_2002 = df[(df['year'] == 2002)]\n",
        "year_2002"
      ],
      "execution_count": 15,
      "outputs": [
        {
          "output_type": "stream",
          "text": [
            "0       False\n",
            "1       False\n",
            "2        True\n",
            "3       False\n",
            "4       False\n",
            "        ...  \n",
            "3646    False\n",
            "3647    False\n",
            "3648    False\n",
            "3649    False\n",
            "3650    False\n",
            "Name: year, Length: 3651, dtype: bool\n"
          ],
          "name": "stdout"
        },
        {
          "output_type": "execute_result",
          "data": {
            "text/html": [
              "<div>\n",
              "<style scoped>\n",
              "    .dataframe tbody tr th:only-of-type {\n",
              "        vertical-align: middle;\n",
              "    }\n",
              "\n",
              "    .dataframe tbody tr th {\n",
              "        vertical-align: top;\n",
              "    }\n",
              "\n",
              "    .dataframe thead th {\n",
              "        text-align: right;\n",
              "    }\n",
              "</style>\n",
              "<table border=\"1\" class=\"dataframe\">\n",
              "  <thead>\n",
              "    <tr style=\"text-align: right;\">\n",
              "      <th></th>\n",
              "      <th>country</th>\n",
              "      <th>iso2</th>\n",
              "      <th>iso3</th>\n",
              "      <th>Region Code</th>\n",
              "      <th>year</th>\n",
              "      <th>Total Population</th>\n",
              "      <th>Estimated incidence (all forms) per 100 000 population</th>\n",
              "    </tr>\n",
              "  </thead>\n",
              "  <tbody>\n",
              "    <tr>\n",
              "      <th>2</th>\n",
              "      <td>Afghanistan</td>\n",
              "      <td>AF</td>\n",
              "      <td>AFG</td>\n",
              "      <td>EMR</td>\n",
              "      <td>2002</td>\n",
              "      <td>21979923</td>\n",
              "      <td>189.0</td>\n",
              "    </tr>\n",
              "    <tr>\n",
              "      <th>19</th>\n",
              "      <td>Albania</td>\n",
              "      <td>AL</td>\n",
              "      <td>ALB</td>\n",
              "      <td>EUR</td>\n",
              "      <td>2002</td>\n",
              "      <td>3119029</td>\n",
              "      <td>22.0</td>\n",
              "    </tr>\n",
              "    <tr>\n",
              "      <th>36</th>\n",
              "      <td>Algeria</td>\n",
              "      <td>DZ</td>\n",
              "      <td>DZA</td>\n",
              "      <td>AFR</td>\n",
              "      <td>2002</td>\n",
              "      <td>31995046</td>\n",
              "      <td>74.0</td>\n",
              "    </tr>\n",
              "    <tr>\n",
              "      <th>53</th>\n",
              "      <td>American Samoa</td>\n",
              "      <td>AS</td>\n",
              "      <td>ASM</td>\n",
              "      <td>WPR</td>\n",
              "      <td>2002</td>\n",
              "      <td>58731</td>\n",
              "      <td>3.9</td>\n",
              "    </tr>\n",
              "    <tr>\n",
              "      <th>70</th>\n",
              "      <td>Andorra</td>\n",
              "      <td>AD</td>\n",
              "      <td>AND</td>\n",
              "      <td>EUR</td>\n",
              "      <td>2002</td>\n",
              "      <td>70049</td>\n",
              "      <td>8.2</td>\n",
              "    </tr>\n",
              "    <tr>\n",
              "      <th>...</th>\n",
              "      <td>...</td>\n",
              "      <td>...</td>\n",
              "      <td>...</td>\n",
              "      <td>...</td>\n",
              "      <td>...</td>\n",
              "      <td>...</td>\n",
              "      <td>...</td>\n",
              "    </tr>\n",
              "    <tr>\n",
              "      <th>3568</th>\n",
              "      <td>Wallis and Futuna Islands</td>\n",
              "      <td>WF</td>\n",
              "      <td>WLF</td>\n",
              "      <td>WPR</td>\n",
              "      <td>2002</td>\n",
              "      <td>14622</td>\n",
              "      <td>149.0</td>\n",
              "    </tr>\n",
              "    <tr>\n",
              "      <th>3585</th>\n",
              "      <td>West Bank and Gaza Strip</td>\n",
              "      <td>PS</td>\n",
              "      <td>PSE</td>\n",
              "      <td>EMR</td>\n",
              "      <td>2002</td>\n",
              "      <td>3379049</td>\n",
              "      <td>1.9</td>\n",
              "    </tr>\n",
              "    <tr>\n",
              "      <th>3602</th>\n",
              "      <td>Yemen</td>\n",
              "      <td>YE</td>\n",
              "      <td>YEM</td>\n",
              "      <td>EMR</td>\n",
              "      <td>2002</td>\n",
              "      <td>18919179</td>\n",
              "      <td>102.0</td>\n",
              "    </tr>\n",
              "    <tr>\n",
              "      <th>3619</th>\n",
              "      <td>Zambia</td>\n",
              "      <td>ZM</td>\n",
              "      <td>ZMB</td>\n",
              "      <td>AFR</td>\n",
              "      <td>2002</td>\n",
              "      <td>11120409</td>\n",
              "      <td>695.0</td>\n",
              "    </tr>\n",
              "    <tr>\n",
              "      <th>3636</th>\n",
              "      <td>Zimbabwe</td>\n",
              "      <td>ZW</td>\n",
              "      <td>ZWE</td>\n",
              "      <td>AFR</td>\n",
              "      <td>2002</td>\n",
              "      <td>12500525</td>\n",
              "      <td>617.0</td>\n",
              "    </tr>\n",
              "  </tbody>\n",
              "</table>\n",
              "<p>213 rows × 7 columns</p>\n",
              "</div>"
            ],
            "text/plain": [
              "                        country  ... Estimated incidence (all forms) per 100 000 population\n",
              "2                   Afghanistan  ...                                              189.0    \n",
              "19                      Albania  ...                                               22.0    \n",
              "36                      Algeria  ...                                               74.0    \n",
              "53               American Samoa  ...                                                3.9    \n",
              "70                      Andorra  ...                                                8.2    \n",
              "...                         ...  ...                                                ...    \n",
              "3568  Wallis and Futuna Islands  ...                                              149.0    \n",
              "3585   West Bank and Gaza Strip  ...                                                1.9    \n",
              "3602                      Yemen  ...                                              102.0    \n",
              "3619                     Zambia  ...                                              695.0    \n",
              "3636                   Zimbabwe  ...                                              617.0    \n",
              "\n",
              "[213 rows x 7 columns]"
            ]
          },
          "metadata": {
            "tags": []
          },
          "execution_count": 15
        }
      ]
    },
    {
      "cell_type": "markdown",
      "metadata": {
        "id": "Dr6jWkKotrBs",
        "colab_type": "text"
      },
      "source": [
        "Select Rows Whose Column Value Does NOT Equal a Specific Value"
      ]
    },
    {
      "cell_type": "code",
      "metadata": {
        "id": "xU6El3artro8",
        "colab_type": "code",
        "colab": {}
      },
      "source": [
        "df = pd.read_csv('unit05-data.csv')\n",
        "\n",
        "year_not_2002 = df[(df['year'] != 2002)]\n",
        "year_not_2002"
      ],
      "execution_count": null,
      "outputs": []
    },
    {
      "cell_type": "markdown",
      "metadata": {
        "id": "XxOUpvHxttyq",
        "colab_type": "text"
      },
      "source": [
        "Select Not Null: **notnull()**"
      ]
    },
    {
      "cell_type": "code",
      "metadata": {
        "id": "edtmQaHBtvym",
        "colab_type": "code",
        "colab": {}
      },
      "source": [
        "df = pd.read_csv('unit05-data.csv')\n",
        "\n",
        "df_not_null = df[df.year.notnull()]\n",
        "df_not_null"
      ],
      "execution_count": null,
      "outputs": []
    },
    {
      "cell_type": "markdown",
      "metadata": {
        "id": "Z6kysa8px0sX",
        "colab_type": "text"
      },
      "source": [
        "Select a list of years: **isin**"
      ]
    },
    {
      "cell_type": "code",
      "metadata": {
        "id": "2mwgv6m1x1J_",
        "colab_type": "code",
        "colab": {}
      },
      "source": [
        "df = pd.read_csv('unit05-data.csv')\n",
        "\n",
        "years = [2002,2008]\n",
        "selection = df[df.year.isin(years)]\n",
        "selection"
      ],
      "execution_count": null,
      "outputs": []
    },
    {
      "cell_type": "markdown",
      "metadata": {
        "id": "LAu9EfC01PDM",
        "colab_type": "text"
      },
      "source": [
        "Select Rows Based on Values Not in List: **~**"
      ]
    },
    {
      "cell_type": "code",
      "metadata": {
        "id": "lLh3v2nj1SAM",
        "colab_type": "code",
        "colab": {}
      },
      "source": [
        "df = pd.read_csv('unit05-data.csv')\n",
        "\n",
        "years = [2002,2008]\n",
        "selection = df[~df.year.isin(years)]\n",
        "\n",
        "selection"
      ],
      "execution_count": null,
      "outputs": []
    },
    {
      "cell_type": "markdown",
      "metadata": {
        "id": "G2RKTFHtybxo",
        "colab_type": "text"
      },
      "source": [
        "Select Rows Using Multiple Conditions: **&**"
      ]
    },
    {
      "cell_type": "code",
      "metadata": {
        "id": "-ZMk-6azycWd",
        "colab_type": "code",
        "colab": {}
      },
      "source": [
        "df = pd.read_csv('unit05-data.csv')\n",
        "\n",
        "years = [2002,2008]\n",
        "country = [\"Singapore\"]\n",
        "selection = df[df.year.isin(years) & df.country.isin(country)]\n",
        "selection"
      ],
      "execution_count": null,
      "outputs": []
    },
    {
      "cell_type": "markdown",
      "metadata": {
        "id": "g--M6NmAt4T_",
        "colab_type": "text"
      },
      "source": [
        "**Demo**"
      ]
    },
    {
      "cell_type": "code",
      "metadata": {
        "id": "kkpj86KpqnFy",
        "colab_type": "code",
        "colab": {
          "base_uri": "https://localhost:8080/",
          "height": 34
        },
        "outputId": "fbe8f0a0-ae77-4d66-899f-83774e42ab1c"
      },
      "source": [
        "# sum()\n",
        "\n",
        "df = pd.read_csv('unit05-data.csv')\n",
        "\n",
        "sg = df[(df['country'] == 'Singapore')]\n",
        "sg['Estimated incidence (all forms) per 100 000 population'].sum()"
      ],
      "execution_count": 5,
      "outputs": [
        {
          "output_type": "execute_result",
          "data": {
            "text/plain": [
              "700.0"
            ]
          },
          "metadata": {
            "tags": []
          },
          "execution_count": 5
        }
      ]
    },
    {
      "cell_type": "code",
      "metadata": {
        "id": "ozsi67Eqq04-",
        "colab_type": "code",
        "colab": {}
      },
      "source": [
        "df = pd.read_csv('unit05-data.csv')\n",
        "\n",
        "# Part 1\n",
        "# How many cases of Tuberculosis were there in 2008 in total?\n",
        "year = df[ (df['year'] == 2008)]\n",
        "print(year['Estimated incidence (all forms) per 100 000 population'].sum())\n",
        "\n",
        "# Part 2\n",
        "# Find out how many cases of Tuberculosis per 100k people there\n",
        "# were in Zimbabwe from 2000 to 2016\n",
        "zimbabwe = df[(df['country'] == 'Zimbabwe')]\n",
        "print(zimbabwe['Estimated incidence (all forms) per 100 000 population'].sum())"
      ],
      "execution_count": null,
      "outputs": []
    },
    {
      "cell_type": "code",
      "metadata": {
        "id": "V3obNesqy8vO",
        "colab_type": "code",
        "colab": {
          "base_uri": "https://localhost:8080/",
          "height": 555
        },
        "outputId": "c6060ce8-0c23-4905-aa25-9e58c4cca314"
      },
      "source": [
        "df = pd.read_csv('unit05-data.csv')\n",
        "\n",
        "# Select Singapore’s data from years 2002 and 2008\n",
        "selection = df[df.year.isin(range(2004,2009)) & df.country.isin(['Singapore'])]\n",
        "print(selection)\n",
        "\n",
        "# Select data between 2004 and 2008 that are not from Singapore\n",
        "selection = df[df.year.isin(range(2004,2009)) & ~df.country.isin(['Singapore'])]\n",
        "selection"
      ],
      "execution_count": 16,
      "outputs": [
        {
          "output_type": "stream",
          "text": [
            "        country  ... Estimated incidence (all forms) per 100 000 population\n",
            "2896  Singapore  ...                                               38.0    \n",
            "2897  Singapore  ...                                               35.0    \n",
            "2898  Singapore  ...                                               33.0    \n",
            "2899  Singapore  ...                                               33.0    \n",
            "2900  Singapore  ...                                               37.0    \n",
            "\n",
            "[5 rows x 7 columns]\n"
          ],
          "name": "stdout"
        },
        {
          "output_type": "execute_result",
          "data": {
            "text/html": [
              "<div>\n",
              "<style scoped>\n",
              "    .dataframe tbody tr th:only-of-type {\n",
              "        vertical-align: middle;\n",
              "    }\n",
              "\n",
              "    .dataframe tbody tr th {\n",
              "        vertical-align: top;\n",
              "    }\n",
              "\n",
              "    .dataframe thead th {\n",
              "        text-align: right;\n",
              "    }\n",
              "</style>\n",
              "<table border=\"1\" class=\"dataframe\">\n",
              "  <thead>\n",
              "    <tr style=\"text-align: right;\">\n",
              "      <th></th>\n",
              "      <th>country</th>\n",
              "      <th>iso2</th>\n",
              "      <th>iso3</th>\n",
              "      <th>Region Code</th>\n",
              "      <th>year</th>\n",
              "      <th>Total Population</th>\n",
              "      <th>Estimated incidence (all forms) per 100 000 population</th>\n",
              "    </tr>\n",
              "  </thead>\n",
              "  <tbody>\n",
              "    <tr>\n",
              "      <th>4</th>\n",
              "      <td>Afghanistan</td>\n",
              "      <td>AF</td>\n",
              "      <td>AFG</td>\n",
              "      <td>EMR</td>\n",
              "      <td>2004</td>\n",
              "      <td>24118979</td>\n",
              "      <td>189.0</td>\n",
              "    </tr>\n",
              "    <tr>\n",
              "      <th>5</th>\n",
              "      <td>Afghanistan</td>\n",
              "      <td>AF</td>\n",
              "      <td>AFG</td>\n",
              "      <td>EMR</td>\n",
              "      <td>2005</td>\n",
              "      <td>25070798</td>\n",
              "      <td>189.0</td>\n",
              "    </tr>\n",
              "    <tr>\n",
              "      <th>6</th>\n",
              "      <td>Afghanistan</td>\n",
              "      <td>AF</td>\n",
              "      <td>AFG</td>\n",
              "      <td>EMR</td>\n",
              "      <td>2006</td>\n",
              "      <td>25893450</td>\n",
              "      <td>189.0</td>\n",
              "    </tr>\n",
              "    <tr>\n",
              "      <th>7</th>\n",
              "      <td>Afghanistan</td>\n",
              "      <td>AF</td>\n",
              "      <td>AFG</td>\n",
              "      <td>EMR</td>\n",
              "      <td>2007</td>\n",
              "      <td>26616792</td>\n",
              "      <td>189.0</td>\n",
              "    </tr>\n",
              "    <tr>\n",
              "      <th>8</th>\n",
              "      <td>Afghanistan</td>\n",
              "      <td>AF</td>\n",
              "      <td>AFG</td>\n",
              "      <td>EMR</td>\n",
              "      <td>2008</td>\n",
              "      <td>27294031</td>\n",
              "      <td>189.0</td>\n",
              "    </tr>\n",
              "    <tr>\n",
              "      <th>...</th>\n",
              "      <td>...</td>\n",
              "      <td>...</td>\n",
              "      <td>...</td>\n",
              "      <td>...</td>\n",
              "      <td>...</td>\n",
              "      <td>...</td>\n",
              "      <td>...</td>\n",
              "    </tr>\n",
              "    <tr>\n",
              "      <th>3638</th>\n",
              "      <td>Zimbabwe</td>\n",
              "      <td>ZW</td>\n",
              "      <td>ZWE</td>\n",
              "      <td>AFR</td>\n",
              "      <td>2004</td>\n",
              "      <td>12777511</td>\n",
              "      <td>607.0</td>\n",
              "    </tr>\n",
              "    <tr>\n",
              "      <th>3639</th>\n",
              "      <td>Zimbabwe</td>\n",
              "      <td>ZW</td>\n",
              "      <td>ZWE</td>\n",
              "      <td>AFR</td>\n",
              "      <td>2005</td>\n",
              "      <td>12940032</td>\n",
              "      <td>588.0</td>\n",
              "    </tr>\n",
              "    <tr>\n",
              "      <th>3640</th>\n",
              "      <td>Zimbabwe</td>\n",
              "      <td>ZW</td>\n",
              "      <td>ZWE</td>\n",
              "      <td>AFR</td>\n",
              "      <td>2006</td>\n",
              "      <td>13124267</td>\n",
              "      <td>561.0</td>\n",
              "    </tr>\n",
              "    <tr>\n",
              "      <th>3641</th>\n",
              "      <td>Zimbabwe</td>\n",
              "      <td>ZW</td>\n",
              "      <td>ZWE</td>\n",
              "      <td>AFR</td>\n",
              "      <td>2007</td>\n",
              "      <td>13329909</td>\n",
              "      <td>527.0</td>\n",
              "    </tr>\n",
              "    <tr>\n",
              "      <th>3642</th>\n",
              "      <td>Zimbabwe</td>\n",
              "      <td>ZW</td>\n",
              "      <td>ZWE</td>\n",
              "      <td>AFR</td>\n",
              "      <td>2008</td>\n",
              "      <td>13558469</td>\n",
              "      <td>487.0</td>\n",
              "    </tr>\n",
              "  </tbody>\n",
              "</table>\n",
              "<p>1064 rows × 7 columns</p>\n",
              "</div>"
            ],
            "text/plain": [
              "          country  ... Estimated incidence (all forms) per 100 000 population\n",
              "4     Afghanistan  ...                                              189.0    \n",
              "5     Afghanistan  ...                                              189.0    \n",
              "6     Afghanistan  ...                                              189.0    \n",
              "7     Afghanistan  ...                                              189.0    \n",
              "8     Afghanistan  ...                                              189.0    \n",
              "...           ...  ...                                                ...    \n",
              "3638     Zimbabwe  ...                                              607.0    \n",
              "3639     Zimbabwe  ...                                              588.0    \n",
              "3640     Zimbabwe  ...                                              561.0    \n",
              "3641     Zimbabwe  ...                                              527.0    \n",
              "3642     Zimbabwe  ...                                              487.0    \n",
              "\n",
              "[1064 rows x 7 columns]"
            ]
          },
          "metadata": {
            "tags": []
          },
          "execution_count": 16
        }
      ]
    },
    {
      "cell_type": "markdown",
      "metadata": {
        "id": "aEFriblYz2za",
        "colab_type": "text"
      },
      "source": [
        "**Concatenate** DataFrames: **concat**"
      ]
    },
    {
      "cell_type": "code",
      "metadata": {
        "id": "Ma5q7h7Mz3Sd",
        "colab_type": "code",
        "colab": {
          "base_uri": "https://localhost:8080/",
          "height": 544
        },
        "outputId": "b5d5bcea-12bc-4521-ffd2-a99b57f496db"
      },
      "source": [
        "student1 = [\"Anna\",\"Bob\",\"Cass\",\"Darius\",\"Eugene\",\"Felica\",\"Gordon\"]\n",
        "classroom1 = [\"A\",\"A\",\"B\",\"A\",\"B\",\"B\",\"B\"]\n",
        "age1 = [15,15,16,17,15,18,15]\n",
        "score1 =  [80,82,95,70,67,98,85]\n",
        "data1 = {\"Student\": student1, \"Class\": classroom1, \"Age\": age1,\"Score\": score1}\n",
        "df1 = pd.DataFrame(data1)\n",
        "print(df1)\n",
        "\n",
        "student2 = [\"Charlie\",\"James\",\"Ethan\"]\n",
        "classroom2 = [\"C\",\"C\",\"C\"]\n",
        "age2 = [16,17,18]\n",
        "score2 = [95,77,80]\n",
        "data2 = {\"Student\": student2, \"Class\": classroom2, \"Age\": age2,\"Score\": score2}\n",
        "df2 = pd.DataFrame(data2)\n",
        "print(df2)\n",
        "\n",
        "# Concatenate DataFrames by Rows\n",
        "df_row = pd.concat([df1, df2], ignore_index=True)\n",
        "print(df_row)\n",
        "\n",
        "# Concatenate DataFrames by Column\n",
        "df_row = pd.concat([df1, df2], ignore_index=True, axis=1)\n",
        "print(df_row)"
      ],
      "execution_count": 18,
      "outputs": [
        {
          "output_type": "stream",
          "text": [
            "  Student Class  Age  Score\n",
            "0    Anna     A   15     80\n",
            "1     Bob     A   15     82\n",
            "2    Cass     B   16     95\n",
            "3  Darius     A   17     70\n",
            "4  Eugene     B   15     67\n",
            "5  Felica     B   18     98\n",
            "6  Gordon     B   15     85\n",
            "   Student Class  Age  Score\n",
            "0  Charlie     C   16     95\n",
            "1    James     C   17     77\n",
            "2    Ethan     C   18     80\n",
            "   Student Class  Age  Score\n",
            "0     Anna     A   15     80\n",
            "1      Bob     A   15     82\n",
            "2     Cass     B   16     95\n",
            "3   Darius     A   17     70\n",
            "4   Eugene     B   15     67\n",
            "5   Felica     B   18     98\n",
            "6   Gordon     B   15     85\n",
            "7  Charlie     C   16     95\n",
            "8    James     C   17     77\n",
            "9    Ethan     C   18     80\n",
            "        0  1   2   3        4    5     6     7\n",
            "0    Anna  A  15  80  Charlie    C  16.0  95.0\n",
            "1     Bob  A  15  82    James    C  17.0  77.0\n",
            "2    Cass  B  16  95    Ethan    C  18.0  80.0\n",
            "3  Darius  A  17  70      NaN  NaN   NaN   NaN\n",
            "4  Eugene  B  15  67      NaN  NaN   NaN   NaN\n",
            "5  Felica  B  18  98      NaN  NaN   NaN   NaN\n",
            "6  Gordon  B  15  85      NaN  NaN   NaN   NaN\n"
          ],
          "name": "stdout"
        }
      ]
    },
    {
      "cell_type": "markdown",
      "metadata": {
        "id": "0gItBZnm2RB8",
        "colab_type": "text"
      },
      "source": [
        "**Merge** DataFrames: **merge**"
      ]
    },
    {
      "cell_type": "code",
      "metadata": {
        "id": "lAFICfyg2Rpa",
        "colab_type": "code",
        "colab": {
          "base_uri": "https://localhost:8080/",
          "height": 733
        },
        "outputId": "09040a00-c7ea-4cf6-c8ef-81eea5fdd1bc"
      },
      "source": [
        "student1 = [\"Anna\",\"Bob\",\"Cass\",\"Darius\",\"Eugene\",\"Felica\",\"Gordon\"]\n",
        "classroom1 = [\"A\",\"A\",\"B\",\"A\",\"B\",\"B\",\"B\"]\n",
        "age1 = [15,15,16,17,15,18,15]\n",
        "score1 =  [80,82,95,70,67,98,85]\n",
        "data1 = {\"Student\": student1, \"Class\": classroom1, \"Age\": age1,\"Score\": score1}\n",
        "df1 = pd.DataFrame(data1,columns = ['Student', 'Class', 'Age', 'Score'])\n",
        "\n",
        "student2 = [\"Charlie\",\"James\",\"Ethan\"]\n",
        "classroom2 = [\"C\",\"C\",\"C\"]\n",
        "age2 = [16,17,18]\n",
        "score2 = [95,77,80]\n",
        "data2 = {\"Student\": student2, \"Class\": classroom2, \"Age\": age2,\"Score\": score2}\n",
        "df2 = pd.DataFrame(data2, columns = ['Student', 'Class', 'Age', 'Score'])\n",
        "\n",
        "df_row = pd.concat([df1, df2], ignore_index=True)\n",
        "print(df_row)\n",
        "\n",
        "student3 = [\"Anna\",\"Bob\",\"Cass\",\"Darius\",\"Eugene\",\"Felica\",\"Gordon\",\"Charlie\",\"James\",\"Ethan\"]\n",
        "id3 = [1,2,3,4,5,6,7,8,9,10]\n",
        "data3 = {\"Student\":student3, \"id\":id3}\n",
        "df3 = pd.DataFrame(data3, columns = ['Student', 'id'])\n",
        "print(df3)\n",
        "\n",
        "df_merge_col = pd.merge(df3, df_row, on=\"Student\")\n",
        "df_merge_col"
      ],
      "execution_count": 20,
      "outputs": [
        {
          "output_type": "stream",
          "text": [
            "   Student Class  Age  Score\n",
            "0     Anna     A   15     80\n",
            "1      Bob     A   15     82\n",
            "2     Cass     B   16     95\n",
            "3   Darius     A   17     70\n",
            "4   Eugene     B   15     67\n",
            "5   Felica     B   18     98\n",
            "6   Gordon     B   15     85\n",
            "7  Charlie     C   16     95\n",
            "8    James     C   17     77\n",
            "9    Ethan     C   18     80\n",
            "   Student  id\n",
            "0     Anna   1\n",
            "1      Bob   2\n",
            "2     Cass   3\n",
            "3   Darius   4\n",
            "4   Eugene   5\n",
            "5   Felica   6\n",
            "6   Gordon   7\n",
            "7  Charlie   8\n",
            "8    James   9\n",
            "9    Ethan  10\n"
          ],
          "name": "stdout"
        },
        {
          "output_type": "execute_result",
          "data": {
            "text/html": [
              "<div>\n",
              "<style scoped>\n",
              "    .dataframe tbody tr th:only-of-type {\n",
              "        vertical-align: middle;\n",
              "    }\n",
              "\n",
              "    .dataframe tbody tr th {\n",
              "        vertical-align: top;\n",
              "    }\n",
              "\n",
              "    .dataframe thead th {\n",
              "        text-align: right;\n",
              "    }\n",
              "</style>\n",
              "<table border=\"1\" class=\"dataframe\">\n",
              "  <thead>\n",
              "    <tr style=\"text-align: right;\">\n",
              "      <th></th>\n",
              "      <th>Student</th>\n",
              "      <th>id</th>\n",
              "      <th>Class</th>\n",
              "      <th>Age</th>\n",
              "      <th>Score</th>\n",
              "    </tr>\n",
              "  </thead>\n",
              "  <tbody>\n",
              "    <tr>\n",
              "      <th>0</th>\n",
              "      <td>Anna</td>\n",
              "      <td>1</td>\n",
              "      <td>A</td>\n",
              "      <td>15</td>\n",
              "      <td>80</td>\n",
              "    </tr>\n",
              "    <tr>\n",
              "      <th>1</th>\n",
              "      <td>Bob</td>\n",
              "      <td>2</td>\n",
              "      <td>A</td>\n",
              "      <td>15</td>\n",
              "      <td>82</td>\n",
              "    </tr>\n",
              "    <tr>\n",
              "      <th>2</th>\n",
              "      <td>Cass</td>\n",
              "      <td>3</td>\n",
              "      <td>B</td>\n",
              "      <td>16</td>\n",
              "      <td>95</td>\n",
              "    </tr>\n",
              "    <tr>\n",
              "      <th>3</th>\n",
              "      <td>Darius</td>\n",
              "      <td>4</td>\n",
              "      <td>A</td>\n",
              "      <td>17</td>\n",
              "      <td>70</td>\n",
              "    </tr>\n",
              "    <tr>\n",
              "      <th>4</th>\n",
              "      <td>Eugene</td>\n",
              "      <td>5</td>\n",
              "      <td>B</td>\n",
              "      <td>15</td>\n",
              "      <td>67</td>\n",
              "    </tr>\n",
              "    <tr>\n",
              "      <th>5</th>\n",
              "      <td>Felica</td>\n",
              "      <td>6</td>\n",
              "      <td>B</td>\n",
              "      <td>18</td>\n",
              "      <td>98</td>\n",
              "    </tr>\n",
              "    <tr>\n",
              "      <th>6</th>\n",
              "      <td>Gordon</td>\n",
              "      <td>7</td>\n",
              "      <td>B</td>\n",
              "      <td>15</td>\n",
              "      <td>85</td>\n",
              "    </tr>\n",
              "    <tr>\n",
              "      <th>7</th>\n",
              "      <td>Charlie</td>\n",
              "      <td>8</td>\n",
              "      <td>C</td>\n",
              "      <td>16</td>\n",
              "      <td>95</td>\n",
              "    </tr>\n",
              "    <tr>\n",
              "      <th>8</th>\n",
              "      <td>James</td>\n",
              "      <td>9</td>\n",
              "      <td>C</td>\n",
              "      <td>17</td>\n",
              "      <td>77</td>\n",
              "    </tr>\n",
              "    <tr>\n",
              "      <th>9</th>\n",
              "      <td>Ethan</td>\n",
              "      <td>10</td>\n",
              "      <td>C</td>\n",
              "      <td>18</td>\n",
              "      <td>80</td>\n",
              "    </tr>\n",
              "  </tbody>\n",
              "</table>\n",
              "</div>"
            ],
            "text/plain": [
              "   Student  id Class  Age  Score\n",
              "0     Anna   1     A   15     80\n",
              "1      Bob   2     A   15     82\n",
              "2     Cass   3     B   16     95\n",
              "3   Darius   4     A   17     70\n",
              "4   Eugene   5     B   15     67\n",
              "5   Felica   6     B   18     98\n",
              "6   Gordon   7     B   15     85\n",
              "7  Charlie   8     C   16     95\n",
              "8    James   9     C   17     77\n",
              "9    Ethan  10     C   18     80"
            ]
          },
          "metadata": {
            "tags": []
          },
          "execution_count": 20
        }
      ]
    },
    {
      "cell_type": "markdown",
      "metadata": {
        "id": "Y4lqayOA22yC",
        "colab_type": "text"
      },
      "source": [
        "**Pivoting** in Pandas: **pivot_table**"
      ]
    },
    {
      "cell_type": "code",
      "metadata": {
        "id": "ir4CGLHv26Et",
        "colab_type": "code",
        "colab": {
          "base_uri": "https://localhost:8080/",
          "height": 391
        },
        "outputId": "26b03310-01d5-4361-922a-b67b473acd52"
      },
      "source": [
        "student1 = [\"Anna\",\"Bob\",\"Cass\",\"Darius\",\"Eugene\",\"Felica\",\"Gordon\"]\n",
        "classroom1 = [\"A\",\"A\",\"B\",\"A\",\"B\",\"B\",\"B\"]\n",
        "age1 = [15,15,16,17,15,18,15]\n",
        "score1 =  [80,82,95,70,67,98,85]\n",
        "data1 = {\"Student\": student1, \"Class\":classroom1, \"Age\": age1,\"Score\": score1}\n",
        "df1 = pd.DataFrame(data1,columns = ['Student', 'Class', 'Age', 'Score'])\n",
        "\n",
        "student2 = [\"Charlie\",\"James\",\"Ethan\"]\n",
        "classroom2 = [\"C\",\"C\",\"C\"]\n",
        "age2 = [16,17,18]\n",
        "score2 = [95,77,80]\n",
        "data2 = {\"Student\": student2, \"Class\":classroom2, \"Age\": age2,\"Score\": score2}\n",
        "df2 = pd.DataFrame(data2, columns = ['Student', 'Class', 'Age', 'Score'])\n",
        "\n",
        "df_row = pd.concat([df1, df2], ignore_index=True)\n",
        "\n",
        "student3 = [\"Anna\",\"Bob\",\"Cass\",\"Darius\",\"Eugene\",\"Felica\",\"Gordon\",\"Charlie\",\"James\",\"Ethan\"]\n",
        "id3 = [1,2,3,4,5,6,7,8,9,10]\n",
        "data3 = {\"Student\":student3, \"id\":id3}\n",
        "df3 = pd.DataFrame(data3,columns = ['Student', 'id'])\n",
        "\n",
        "df_merge_col = pd.merge(df_row, df3, on=\"Student\")\n",
        "print(df_merge_col)\n",
        "\n",
        "# By default, aggfunc = [np.mean]\n",
        "df_merge_col.pivot_table(index=\"Class\", columns=\"Age\", values=\"Score\", aggfunc=['max', 'min'])"
      ],
      "execution_count": 21,
      "outputs": [
        {
          "output_type": "stream",
          "text": [
            "   Student Class  Age  Score  id\n",
            "0     Anna     A   15     80   1\n",
            "1      Bob     A   15     82   2\n",
            "2     Cass     B   16     95   3\n",
            "3   Darius     A   17     70   4\n",
            "4   Eugene     B   15     67   5\n",
            "5   Felica     B   18     98   6\n",
            "6   Gordon     B   15     85   7\n",
            "7  Charlie     C   16     95   8\n",
            "8    James     C   17     77   9\n",
            "9    Ethan     C   18     80  10\n"
          ],
          "name": "stdout"
        },
        {
          "output_type": "execute_result",
          "data": {
            "text/html": [
              "<div>\n",
              "<style scoped>\n",
              "    .dataframe tbody tr th:only-of-type {\n",
              "        vertical-align: middle;\n",
              "    }\n",
              "\n",
              "    .dataframe tbody tr th {\n",
              "        vertical-align: top;\n",
              "    }\n",
              "\n",
              "    .dataframe thead tr th {\n",
              "        text-align: left;\n",
              "    }\n",
              "\n",
              "    .dataframe thead tr:last-of-type th {\n",
              "        text-align: right;\n",
              "    }\n",
              "</style>\n",
              "<table border=\"1\" class=\"dataframe\">\n",
              "  <thead>\n",
              "    <tr>\n",
              "      <th></th>\n",
              "      <th colspan=\"4\" halign=\"left\">max</th>\n",
              "      <th colspan=\"4\" halign=\"left\">min</th>\n",
              "    </tr>\n",
              "    <tr>\n",
              "      <th>Age</th>\n",
              "      <th>15</th>\n",
              "      <th>16</th>\n",
              "      <th>17</th>\n",
              "      <th>18</th>\n",
              "      <th>15</th>\n",
              "      <th>16</th>\n",
              "      <th>17</th>\n",
              "      <th>18</th>\n",
              "    </tr>\n",
              "    <tr>\n",
              "      <th>Class</th>\n",
              "      <th></th>\n",
              "      <th></th>\n",
              "      <th></th>\n",
              "      <th></th>\n",
              "      <th></th>\n",
              "      <th></th>\n",
              "      <th></th>\n",
              "      <th></th>\n",
              "    </tr>\n",
              "  </thead>\n",
              "  <tbody>\n",
              "    <tr>\n",
              "      <th>A</th>\n",
              "      <td>82.0</td>\n",
              "      <td>NaN</td>\n",
              "      <td>70.0</td>\n",
              "      <td>NaN</td>\n",
              "      <td>80.0</td>\n",
              "      <td>NaN</td>\n",
              "      <td>70.0</td>\n",
              "      <td>NaN</td>\n",
              "    </tr>\n",
              "    <tr>\n",
              "      <th>B</th>\n",
              "      <td>85.0</td>\n",
              "      <td>95.0</td>\n",
              "      <td>NaN</td>\n",
              "      <td>98.0</td>\n",
              "      <td>67.0</td>\n",
              "      <td>95.0</td>\n",
              "      <td>NaN</td>\n",
              "      <td>98.0</td>\n",
              "    </tr>\n",
              "    <tr>\n",
              "      <th>C</th>\n",
              "      <td>NaN</td>\n",
              "      <td>95.0</td>\n",
              "      <td>77.0</td>\n",
              "      <td>80.0</td>\n",
              "      <td>NaN</td>\n",
              "      <td>95.0</td>\n",
              "      <td>77.0</td>\n",
              "      <td>80.0</td>\n",
              "    </tr>\n",
              "  </tbody>\n",
              "</table>\n",
              "</div>"
            ],
            "text/plain": [
              "        max                     min                  \n",
              "Age      15    16    17    18    15    16    17    18\n",
              "Class                                                \n",
              "A      82.0   NaN  70.0   NaN  80.0   NaN  70.0   NaN\n",
              "B      85.0  95.0   NaN  98.0  67.0  95.0   NaN  98.0\n",
              "C       NaN  95.0  77.0  80.0   NaN  95.0  77.0  80.0"
            ]
          },
          "metadata": {
            "tags": []
          },
          "execution_count": 21
        }
      ]
    },
    {
      "cell_type": "markdown",
      "metadata": {
        "id": "B5gQMDQZ7G0D",
        "colab_type": "text"
      },
      "source": [
        "Set Missing Values To 0: **fill_value**"
      ]
    },
    {
      "cell_type": "code",
      "metadata": {
        "id": "wWeeEssr7C0o",
        "colab_type": "code",
        "colab": {
          "base_uri": "https://localhost:8080/",
          "height": 391
        },
        "outputId": "7c19442e-fd18-4337-ba96-2f697cc6bab4"
      },
      "source": [
        "student1 = [\"Anna\",\"Bob\",\"Cass\",\"Darius\",\"Eugene\",\"Felica\",\"Gordon\"]\n",
        "classroom1 = [\"A\",\"A\",\"B\",\"A\",\"B\",\"B\",\"B\"]\n",
        "age1 = [15,15,16,17,15,18,15]\n",
        "score1 =  [80,82,95,70,67,98,85]\n",
        "data1 = {\"Student\": student1, \"Class\":classroom1, \"Age\": age1,\"Score\": score1}\n",
        "df1 = pd.DataFrame(data1,columns = ['Student', 'Class', 'Age', 'Score'])\n",
        "\n",
        "student2 = [\"Charlie\",\"James\",\"Ethan\"]\n",
        "classroom2 = [\"C\",\"C\",\"C\"]\n",
        "age2 = [16,17,18]\n",
        "score2 = [95,77,80]\n",
        "data2 = {\"Student\": student2, \"Class\":classroom2, \"Age\": age2,\"Score\": score2}\n",
        "df2 = pd.DataFrame(data2, columns = ['Student', 'Class', 'Age', 'Score'])\n",
        "\n",
        "df_row = pd.concat([df1, df2], ignore_index=True)\n",
        "student3 = [\"Anna\",\"Bob\",\"Cass\",\"Darius\",\"Eugene\",\"Felica\",\"Gordon\",\"Charlie\",\"James\",\"Ethan\"]\n",
        "id3 = [1,2,3,4,5,6,7,8,9,10]\n",
        "\n",
        "data3 = {\"Student\":student3, \"id\":id3}\n",
        "df3 = pd.DataFrame(data3,columns = ['Student', 'id'])\n",
        "\n",
        "df_merge_col = pd.merge(df_row, df3, on=\"Student\")\n",
        "print(df_merge_col)\n",
        "\n",
        "df_merge_col.pivot_table(index=\"Class\", columns=\"Age\", values=\"Score\", aggfunc=['max', 'min'], fill_value = 0)"
      ],
      "execution_count": 23,
      "outputs": [
        {
          "output_type": "stream",
          "text": [
            "   Student Class  Age  Score  id\n",
            "0     Anna     A   15     80   1\n",
            "1      Bob     A   15     82   2\n",
            "2     Cass     B   16     95   3\n",
            "3   Darius     A   17     70   4\n",
            "4   Eugene     B   15     67   5\n",
            "5   Felica     B   18     98   6\n",
            "6   Gordon     B   15     85   7\n",
            "7  Charlie     C   16     95   8\n",
            "8    James     C   17     77   9\n",
            "9    Ethan     C   18     80  10\n"
          ],
          "name": "stdout"
        },
        {
          "output_type": "execute_result",
          "data": {
            "text/html": [
              "<div>\n",
              "<style scoped>\n",
              "    .dataframe tbody tr th:only-of-type {\n",
              "        vertical-align: middle;\n",
              "    }\n",
              "\n",
              "    .dataframe tbody tr th {\n",
              "        vertical-align: top;\n",
              "    }\n",
              "\n",
              "    .dataframe thead tr th {\n",
              "        text-align: left;\n",
              "    }\n",
              "\n",
              "    .dataframe thead tr:last-of-type th {\n",
              "        text-align: right;\n",
              "    }\n",
              "</style>\n",
              "<table border=\"1\" class=\"dataframe\">\n",
              "  <thead>\n",
              "    <tr>\n",
              "      <th></th>\n",
              "      <th colspan=\"4\" halign=\"left\">max</th>\n",
              "      <th colspan=\"4\" halign=\"left\">min</th>\n",
              "    </tr>\n",
              "    <tr>\n",
              "      <th>Age</th>\n",
              "      <th>15</th>\n",
              "      <th>16</th>\n",
              "      <th>17</th>\n",
              "      <th>18</th>\n",
              "      <th>15</th>\n",
              "      <th>16</th>\n",
              "      <th>17</th>\n",
              "      <th>18</th>\n",
              "    </tr>\n",
              "    <tr>\n",
              "      <th>Class</th>\n",
              "      <th></th>\n",
              "      <th></th>\n",
              "      <th></th>\n",
              "      <th></th>\n",
              "      <th></th>\n",
              "      <th></th>\n",
              "      <th></th>\n",
              "      <th></th>\n",
              "    </tr>\n",
              "  </thead>\n",
              "  <tbody>\n",
              "    <tr>\n",
              "      <th>A</th>\n",
              "      <td>82</td>\n",
              "      <td>0</td>\n",
              "      <td>70</td>\n",
              "      <td>0</td>\n",
              "      <td>80</td>\n",
              "      <td>0</td>\n",
              "      <td>70</td>\n",
              "      <td>0</td>\n",
              "    </tr>\n",
              "    <tr>\n",
              "      <th>B</th>\n",
              "      <td>85</td>\n",
              "      <td>95</td>\n",
              "      <td>0</td>\n",
              "      <td>98</td>\n",
              "      <td>67</td>\n",
              "      <td>95</td>\n",
              "      <td>0</td>\n",
              "      <td>98</td>\n",
              "    </tr>\n",
              "    <tr>\n",
              "      <th>C</th>\n",
              "      <td>0</td>\n",
              "      <td>95</td>\n",
              "      <td>77</td>\n",
              "      <td>80</td>\n",
              "      <td>0</td>\n",
              "      <td>95</td>\n",
              "      <td>77</td>\n",
              "      <td>80</td>\n",
              "    </tr>\n",
              "  </tbody>\n",
              "</table>\n",
              "</div>"
            ],
            "text/plain": [
              "      max             min            \n",
              "Age    15  16  17  18  15  16  17  18\n",
              "Class                                \n",
              "A      82   0  70   0  80   0  70   0\n",
              "B      85  95   0  98  67  95   0  98\n",
              "C       0  95  77  80   0  95  77  80"
            ]
          },
          "metadata": {
            "tags": []
          },
          "execution_count": 23
        }
      ]
    },
    {
      "cell_type": "code",
      "metadata": {
        "id": "ec_9oq1jU4sT",
        "colab_type": "code",
        "colab": {
          "base_uri": "https://localhost:8080/",
          "height": 577
        },
        "outputId": "85621f9c-63bd-478c-c005-b403b91ac8a7"
      },
      "source": [
        "student1 = [\"Anna\",\"Bob\",\"Cass\",\"Darius\",\"Eugene\",\"Felica\",\"Gordon\"]\n",
        "classroom1 = [\"A\",\"A\",\"B\",\"A\",\"B\",\"B\",\"B\"]\n",
        "age1 = [15,15,16,17,15,18,15]\n",
        "score1 =  [80,82,95,70,67,98,85]\n",
        "data1 = {\"Student\": student1, \"Class\":classroom1, \"Age\": age1,\"Score\": score1}\n",
        "df1 = pd.DataFrame(data1,columns = ['Student', 'Class', 'Age', 'Score'])\n",
        "\n",
        "student2 = [\"Charlie\",\"James\",\"Ethan\"]\n",
        "classroom2 = [\"C\",\"C\",\"C\"]\n",
        "age2 = [16,17,18]\n",
        "score2 = [95,77,80]\n",
        "data2 = {\"Student\": student2, \"Class\":classroom2, \"Age\": age2,\"Score\": score2}\n",
        "df2 = pd.DataFrame(data2, columns = ['Student', 'Class', 'Age', 'Score'])\n",
        "\n",
        "df_row = pd.concat([df1, df2], ignore_index=True)\n",
        "student3 = [\"Anna\",\"Bob\",\"Cass\",\"Darius\",\"Eugene\",\"Felica\",\"Gordon\",\"Charlie\",\"James\",\"Ethan\"]\n",
        "id3 = [1,2,3,4,5,6,7,8,9,10]\n",
        "\n",
        "data3 = {\"Student\":student3, \"id\":id3}\n",
        "df3 = pd.DataFrame(data3,columns = ['Student', 'id'])\n",
        "\n",
        "df_merge_col = pd.merge(df_row, df3, on=\"Student\")\n",
        "print(df_merge_col)\n",
        "\n",
        "# TODO: df.pivot()\n",
        "df_merge_col.pivot(index=\"id\", columns=\"Age\", values=\"Score\")"
      ],
      "execution_count": 27,
      "outputs": [
        {
          "output_type": "stream",
          "text": [
            "   Student Class  Age  Score  id\n",
            "0     Anna     A   15     80   1\n",
            "1      Bob     A   15     82   2\n",
            "2     Cass     B   16     95   3\n",
            "3   Darius     A   17     70   4\n",
            "4   Eugene     B   15     67   5\n",
            "5   Felica     B   18     98   6\n",
            "6   Gordon     B   15     85   7\n",
            "7  Charlie     C   16     95   8\n",
            "8    James     C   17     77   9\n",
            "9    Ethan     C   18     80  10\n"
          ],
          "name": "stdout"
        },
        {
          "output_type": "execute_result",
          "data": {
            "text/html": [
              "<div>\n",
              "<style scoped>\n",
              "    .dataframe tbody tr th:only-of-type {\n",
              "        vertical-align: middle;\n",
              "    }\n",
              "\n",
              "    .dataframe tbody tr th {\n",
              "        vertical-align: top;\n",
              "    }\n",
              "\n",
              "    .dataframe thead th {\n",
              "        text-align: right;\n",
              "    }\n",
              "</style>\n",
              "<table border=\"1\" class=\"dataframe\">\n",
              "  <thead>\n",
              "    <tr style=\"text-align: right;\">\n",
              "      <th>Age</th>\n",
              "      <th>15</th>\n",
              "      <th>16</th>\n",
              "      <th>17</th>\n",
              "      <th>18</th>\n",
              "    </tr>\n",
              "    <tr>\n",
              "      <th>id</th>\n",
              "      <th></th>\n",
              "      <th></th>\n",
              "      <th></th>\n",
              "      <th></th>\n",
              "    </tr>\n",
              "  </thead>\n",
              "  <tbody>\n",
              "    <tr>\n",
              "      <th>1</th>\n",
              "      <td>80.0</td>\n",
              "      <td>NaN</td>\n",
              "      <td>NaN</td>\n",
              "      <td>NaN</td>\n",
              "    </tr>\n",
              "    <tr>\n",
              "      <th>2</th>\n",
              "      <td>82.0</td>\n",
              "      <td>NaN</td>\n",
              "      <td>NaN</td>\n",
              "      <td>NaN</td>\n",
              "    </tr>\n",
              "    <tr>\n",
              "      <th>3</th>\n",
              "      <td>NaN</td>\n",
              "      <td>95.0</td>\n",
              "      <td>NaN</td>\n",
              "      <td>NaN</td>\n",
              "    </tr>\n",
              "    <tr>\n",
              "      <th>4</th>\n",
              "      <td>NaN</td>\n",
              "      <td>NaN</td>\n",
              "      <td>70.0</td>\n",
              "      <td>NaN</td>\n",
              "    </tr>\n",
              "    <tr>\n",
              "      <th>5</th>\n",
              "      <td>67.0</td>\n",
              "      <td>NaN</td>\n",
              "      <td>NaN</td>\n",
              "      <td>NaN</td>\n",
              "    </tr>\n",
              "    <tr>\n",
              "      <th>6</th>\n",
              "      <td>NaN</td>\n",
              "      <td>NaN</td>\n",
              "      <td>NaN</td>\n",
              "      <td>98.0</td>\n",
              "    </tr>\n",
              "    <tr>\n",
              "      <th>7</th>\n",
              "      <td>85.0</td>\n",
              "      <td>NaN</td>\n",
              "      <td>NaN</td>\n",
              "      <td>NaN</td>\n",
              "    </tr>\n",
              "    <tr>\n",
              "      <th>8</th>\n",
              "      <td>NaN</td>\n",
              "      <td>95.0</td>\n",
              "      <td>NaN</td>\n",
              "      <td>NaN</td>\n",
              "    </tr>\n",
              "    <tr>\n",
              "      <th>9</th>\n",
              "      <td>NaN</td>\n",
              "      <td>NaN</td>\n",
              "      <td>77.0</td>\n",
              "      <td>NaN</td>\n",
              "    </tr>\n",
              "    <tr>\n",
              "      <th>10</th>\n",
              "      <td>NaN</td>\n",
              "      <td>NaN</td>\n",
              "      <td>NaN</td>\n",
              "      <td>80.0</td>\n",
              "    </tr>\n",
              "  </tbody>\n",
              "</table>\n",
              "</div>"
            ],
            "text/plain": [
              "Age    15    16    17    18\n",
              "id                         \n",
              "1    80.0   NaN   NaN   NaN\n",
              "2    82.0   NaN   NaN   NaN\n",
              "3     NaN  95.0   NaN   NaN\n",
              "4     NaN   NaN  70.0   NaN\n",
              "5    67.0   NaN   NaN   NaN\n",
              "6     NaN   NaN   NaN  98.0\n",
              "7    85.0   NaN   NaN   NaN\n",
              "8     NaN  95.0   NaN   NaN\n",
              "9     NaN   NaN  77.0   NaN\n",
              "10    NaN   NaN   NaN  80.0"
            ]
          },
          "metadata": {
            "tags": []
          },
          "execution_count": 27
        }
      ]
    },
    {
      "cell_type": "markdown",
      "metadata": {
        "id": "tE6xw3R_7T_3",
        "colab_type": "text"
      },
      "source": [
        "Output DataFrame to csv: **to_csv**"
      ]
    },
    {
      "cell_type": "code",
      "metadata": {
        "id": "-fs6yC097brG",
        "colab_type": "code",
        "colab": {}
      },
      "source": [
        "df_merge_col.to_csv(r'df_merge_col.csv', index=False, header=True)"
      ],
      "execution_count": null,
      "outputs": []
    },
    {
      "cell_type": "markdown",
      "metadata": {
        "id": "08jAOuk2AJT4",
        "colab_type": "text"
      },
      "source": [
        "Data Cleaning: **dropna**"
      ]
    },
    {
      "cell_type": "code",
      "metadata": {
        "id": "DzkDTgdL8dks",
        "colab_type": "code",
        "colab": {
          "base_uri": "https://localhost:8080/",
          "height": 402
        },
        "outputId": "a326a1a0-2965-474f-8f41-15f933550319"
      },
      "source": [
        "df = pd.read_excel(\"MissingData.xls\")\n",
        "\n",
        "# Remove rows \n",
        "df = df.dropna()\n",
        "print(df)\n",
        "\n",
        "# Remove columns\n",
        "df = df.dropna(axis = 1)\n",
        "df"
      ],
      "execution_count": 28,
      "outputs": [
        {
          "output_type": "stream",
          "text": [
            "    0 First Name  Last Name  Gender        Country   Age        Date    Id\n",
            "0   1      Dulce      Abril  Female  United States  32.0  15/10/2017  1562\n",
            "1   2       Mara  Hashimoto  Female  Great Britain  25.0  16/08/2016  1582\n",
            "5   6     Gaston      Brumm    Male  United States  24.0  21/05/2015  2554\n",
            "6   7       Etta       Hurn  Female  Great Britain  56.0  15/10/2017  3598\n",
            "7   8    Earlean     Melgar  Female  United States  27.0  16/08/2016  2456\n",
            "8   9   Vincenza    Weiland  Female  United States  40.0  21/05/2015  6548\n",
            "9  10     Fallon    Winward  Female  Great Britain  28.0  16/08/2016  5486\n"
          ],
          "name": "stdout"
        },
        {
          "output_type": "execute_result",
          "data": {
            "text/html": [
              "<div>\n",
              "<style scoped>\n",
              "    .dataframe tbody tr th:only-of-type {\n",
              "        vertical-align: middle;\n",
              "    }\n",
              "\n",
              "    .dataframe tbody tr th {\n",
              "        vertical-align: top;\n",
              "    }\n",
              "\n",
              "    .dataframe thead th {\n",
              "        text-align: right;\n",
              "    }\n",
              "</style>\n",
              "<table border=\"1\" class=\"dataframe\">\n",
              "  <thead>\n",
              "    <tr style=\"text-align: right;\">\n",
              "      <th></th>\n",
              "      <th>0</th>\n",
              "      <th>First Name</th>\n",
              "      <th>Last Name</th>\n",
              "      <th>Gender</th>\n",
              "      <th>Country</th>\n",
              "      <th>Age</th>\n",
              "      <th>Date</th>\n",
              "      <th>Id</th>\n",
              "    </tr>\n",
              "  </thead>\n",
              "  <tbody>\n",
              "    <tr>\n",
              "      <th>0</th>\n",
              "      <td>1</td>\n",
              "      <td>Dulce</td>\n",
              "      <td>Abril</td>\n",
              "      <td>Female</td>\n",
              "      <td>United States</td>\n",
              "      <td>32.0</td>\n",
              "      <td>15/10/2017</td>\n",
              "      <td>1562</td>\n",
              "    </tr>\n",
              "    <tr>\n",
              "      <th>1</th>\n",
              "      <td>2</td>\n",
              "      <td>Mara</td>\n",
              "      <td>Hashimoto</td>\n",
              "      <td>Female</td>\n",
              "      <td>Great Britain</td>\n",
              "      <td>25.0</td>\n",
              "      <td>16/08/2016</td>\n",
              "      <td>1582</td>\n",
              "    </tr>\n",
              "    <tr>\n",
              "      <th>5</th>\n",
              "      <td>6</td>\n",
              "      <td>Gaston</td>\n",
              "      <td>Brumm</td>\n",
              "      <td>Male</td>\n",
              "      <td>United States</td>\n",
              "      <td>24.0</td>\n",
              "      <td>21/05/2015</td>\n",
              "      <td>2554</td>\n",
              "    </tr>\n",
              "    <tr>\n",
              "      <th>6</th>\n",
              "      <td>7</td>\n",
              "      <td>Etta</td>\n",
              "      <td>Hurn</td>\n",
              "      <td>Female</td>\n",
              "      <td>Great Britain</td>\n",
              "      <td>56.0</td>\n",
              "      <td>15/10/2017</td>\n",
              "      <td>3598</td>\n",
              "    </tr>\n",
              "    <tr>\n",
              "      <th>7</th>\n",
              "      <td>8</td>\n",
              "      <td>Earlean</td>\n",
              "      <td>Melgar</td>\n",
              "      <td>Female</td>\n",
              "      <td>United States</td>\n",
              "      <td>27.0</td>\n",
              "      <td>16/08/2016</td>\n",
              "      <td>2456</td>\n",
              "    </tr>\n",
              "    <tr>\n",
              "      <th>8</th>\n",
              "      <td>9</td>\n",
              "      <td>Vincenza</td>\n",
              "      <td>Weiland</td>\n",
              "      <td>Female</td>\n",
              "      <td>United States</td>\n",
              "      <td>40.0</td>\n",
              "      <td>21/05/2015</td>\n",
              "      <td>6548</td>\n",
              "    </tr>\n",
              "    <tr>\n",
              "      <th>9</th>\n",
              "      <td>10</td>\n",
              "      <td>Fallon</td>\n",
              "      <td>Winward</td>\n",
              "      <td>Female</td>\n",
              "      <td>Great Britain</td>\n",
              "      <td>28.0</td>\n",
              "      <td>16/08/2016</td>\n",
              "      <td>5486</td>\n",
              "    </tr>\n",
              "  </tbody>\n",
              "</table>\n",
              "</div>"
            ],
            "text/plain": [
              "    0 First Name  Last Name  Gender        Country   Age        Date    Id\n",
              "0   1      Dulce      Abril  Female  United States  32.0  15/10/2017  1562\n",
              "1   2       Mara  Hashimoto  Female  Great Britain  25.0  16/08/2016  1582\n",
              "5   6     Gaston      Brumm    Male  United States  24.0  21/05/2015  2554\n",
              "6   7       Etta       Hurn  Female  Great Britain  56.0  15/10/2017  3598\n",
              "7   8    Earlean     Melgar  Female  United States  27.0  16/08/2016  2456\n",
              "8   9   Vincenza    Weiland  Female  United States  40.0  21/05/2015  6548\n",
              "9  10     Fallon    Winward  Female  Great Britain  28.0  16/08/2016  5486"
            ]
          },
          "metadata": {
            "tags": []
          },
          "execution_count": 28
        }
      ]
    },
    {
      "cell_type": "markdown",
      "metadata": {
        "id": "jQ4ra84x8g4N",
        "colab_type": "text"
      },
      "source": [
        "Data Imputation: **fillna**"
      ]
    },
    {
      "cell_type": "code",
      "metadata": {
        "id": "uw2zkhWY8hY8",
        "colab_type": "code",
        "colab": {
          "base_uri": "https://localhost:8080/",
          "height": 359
        },
        "outputId": "f26dfc70-4ed5-4656-a5d2-e46892902e1e"
      },
      "source": [
        "df = pd.read_excel(\"MissingData.xls\", typ = \"series\")\n",
        "\n",
        "m = df.Age.mean()\n",
        "df[\"Age\"] = df[\"Age\"].fillna(m)\n",
        "df"
      ],
      "execution_count": 29,
      "outputs": [
        {
          "output_type": "execute_result",
          "data": {
            "text/html": [
              "<div>\n",
              "<style scoped>\n",
              "    .dataframe tbody tr th:only-of-type {\n",
              "        vertical-align: middle;\n",
              "    }\n",
              "\n",
              "    .dataframe tbody tr th {\n",
              "        vertical-align: top;\n",
              "    }\n",
              "\n",
              "    .dataframe thead th {\n",
              "        text-align: right;\n",
              "    }\n",
              "</style>\n",
              "<table border=\"1\" class=\"dataframe\">\n",
              "  <thead>\n",
              "    <tr style=\"text-align: right;\">\n",
              "      <th></th>\n",
              "      <th>0</th>\n",
              "      <th>First Name</th>\n",
              "      <th>Last Name</th>\n",
              "      <th>Gender</th>\n",
              "      <th>Country</th>\n",
              "      <th>Age</th>\n",
              "      <th>Date</th>\n",
              "      <th>Id</th>\n",
              "    </tr>\n",
              "  </thead>\n",
              "  <tbody>\n",
              "    <tr>\n",
              "      <th>0</th>\n",
              "      <td>1</td>\n",
              "      <td>Dulce</td>\n",
              "      <td>Abril</td>\n",
              "      <td>Female</td>\n",
              "      <td>United States</td>\n",
              "      <td>32.000000</td>\n",
              "      <td>15/10/2017</td>\n",
              "      <td>1562</td>\n",
              "    </tr>\n",
              "    <tr>\n",
              "      <th>1</th>\n",
              "      <td>2</td>\n",
              "      <td>Mara</td>\n",
              "      <td>Hashimoto</td>\n",
              "      <td>Female</td>\n",
              "      <td>Great Britain</td>\n",
              "      <td>25.000000</td>\n",
              "      <td>16/08/2016</td>\n",
              "      <td>1582</td>\n",
              "    </tr>\n",
              "    <tr>\n",
              "      <th>2</th>\n",
              "      <td>3</td>\n",
              "      <td>Philip</td>\n",
              "      <td>Gent</td>\n",
              "      <td>Male</td>\n",
              "      <td>France</td>\n",
              "      <td>33.142857</td>\n",
              "      <td>21/05/2015</td>\n",
              "      <td>2587</td>\n",
              "    </tr>\n",
              "    <tr>\n",
              "      <th>3</th>\n",
              "      <td>4</td>\n",
              "      <td>Kathleen</td>\n",
              "      <td>Hanner</td>\n",
              "      <td>Female</td>\n",
              "      <td>United States</td>\n",
              "      <td>33.142857</td>\n",
              "      <td>15/10/2017</td>\n",
              "      <td>3549</td>\n",
              "    </tr>\n",
              "    <tr>\n",
              "      <th>4</th>\n",
              "      <td>5</td>\n",
              "      <td>Nereida</td>\n",
              "      <td>Magwood</td>\n",
              "      <td>Female</td>\n",
              "      <td>United States</td>\n",
              "      <td>33.142857</td>\n",
              "      <td>16/08/2016</td>\n",
              "      <td>2468</td>\n",
              "    </tr>\n",
              "    <tr>\n",
              "      <th>5</th>\n",
              "      <td>6</td>\n",
              "      <td>Gaston</td>\n",
              "      <td>Brumm</td>\n",
              "      <td>Male</td>\n",
              "      <td>United States</td>\n",
              "      <td>24.000000</td>\n",
              "      <td>21/05/2015</td>\n",
              "      <td>2554</td>\n",
              "    </tr>\n",
              "    <tr>\n",
              "      <th>6</th>\n",
              "      <td>7</td>\n",
              "      <td>Etta</td>\n",
              "      <td>Hurn</td>\n",
              "      <td>Female</td>\n",
              "      <td>Great Britain</td>\n",
              "      <td>56.000000</td>\n",
              "      <td>15/10/2017</td>\n",
              "      <td>3598</td>\n",
              "    </tr>\n",
              "    <tr>\n",
              "      <th>7</th>\n",
              "      <td>8</td>\n",
              "      <td>Earlean</td>\n",
              "      <td>Melgar</td>\n",
              "      <td>Female</td>\n",
              "      <td>United States</td>\n",
              "      <td>27.000000</td>\n",
              "      <td>16/08/2016</td>\n",
              "      <td>2456</td>\n",
              "    </tr>\n",
              "    <tr>\n",
              "      <th>8</th>\n",
              "      <td>9</td>\n",
              "      <td>Vincenza</td>\n",
              "      <td>Weiland</td>\n",
              "      <td>Female</td>\n",
              "      <td>United States</td>\n",
              "      <td>40.000000</td>\n",
              "      <td>21/05/2015</td>\n",
              "      <td>6548</td>\n",
              "    </tr>\n",
              "    <tr>\n",
              "      <th>9</th>\n",
              "      <td>10</td>\n",
              "      <td>Fallon</td>\n",
              "      <td>Winward</td>\n",
              "      <td>Female</td>\n",
              "      <td>Great Britain</td>\n",
              "      <td>28.000000</td>\n",
              "      <td>16/08/2016</td>\n",
              "      <td>5486</td>\n",
              "    </tr>\n",
              "  </tbody>\n",
              "</table>\n",
              "</div>"
            ],
            "text/plain": [
              "    0 First Name  Last Name  Gender        Country        Age        Date    Id\n",
              "0   1      Dulce      Abril  Female  United States  32.000000  15/10/2017  1562\n",
              "1   2       Mara  Hashimoto  Female  Great Britain  25.000000  16/08/2016  1582\n",
              "2   3     Philip       Gent    Male         France  33.142857  21/05/2015  2587\n",
              "3   4   Kathleen     Hanner  Female  United States  33.142857  15/10/2017  3549\n",
              "4   5    Nereida    Magwood  Female  United States  33.142857  16/08/2016  2468\n",
              "5   6     Gaston      Brumm    Male  United States  24.000000  21/05/2015  2554\n",
              "6   7       Etta       Hurn  Female  Great Britain  56.000000  15/10/2017  3598\n",
              "7   8    Earlean     Melgar  Female  United States  27.000000  16/08/2016  2456\n",
              "8   9   Vincenza    Weiland  Female  United States  40.000000  21/05/2015  6548\n",
              "9  10     Fallon    Winward  Female  Great Britain  28.000000  16/08/2016  5486"
            ]
          },
          "metadata": {
            "tags": []
          },
          "execution_count": 29
        }
      ]
    },
    {
      "cell_type": "markdown",
      "metadata": {
        "id": "P3m_Ws38-_2W",
        "colab_type": "text"
      },
      "source": [
        "**read_json()**"
      ]
    },
    {
      "cell_type": "code",
      "metadata": {
        "id": "0d4hsRxp_b1h",
        "colab_type": "code",
        "colab": {}
      },
      "source": [
        "json_str = '{\"country\":\"Netherlands\",\"timezone\":\"Europe\\/Amsterdam\",\"ip\":\"46.19.37.108\",\"continent_code\":\"EU\",\"longitude\":5.75,\"latitude\":52.5,\"country_code\":\"NL\"}'\n",
        "data = pd.read_json(json_str, typ = \"series\")\n",
        "print(\"Series\\n\", data)"
      ],
      "execution_count": null,
      "outputs": []
    },
    {
      "cell_type": "code",
      "metadata": {
        "id": "BA7xwFw0BYKY",
        "colab_type": "code",
        "colab": {}
      },
      "source": [
        "json_str = '{\"firstName\":\"Mona\",\"lastName\":\"Tan\",\"nationality\":\"Singapore\"}'\n",
        "data = pd.read_json(json_str, typ = \"series\")\n",
        "print(\"My Info\\n\", data)"
      ],
      "execution_count": null,
      "outputs": []
    },
    {
      "cell_type": "code",
      "metadata": {
        "id": "91hbbNaCCgPm",
        "colab_type": "code",
        "colab": {}
      },
      "source": [
        "df = pd.read_json('example_1.json', typ ='series')\n",
        "df"
      ],
      "execution_count": null,
      "outputs": []
    },
    {
      "cell_type": "markdown",
      "metadata": {
        "id": "bMBhZYLaApZX",
        "colab_type": "text"
      },
      "source": [
        "**read_excel()**"
      ]
    },
    {
      "cell_type": "code",
      "metadata": {
        "id": "9lfdUrziArCz",
        "colab_type": "code",
        "colab": {}
      },
      "source": [
        "df = pd.read_excel(\"MissingData.xls\")\n",
        "df"
      ],
      "execution_count": null,
      "outputs": []
    },
    {
      "cell_type": "code",
      "metadata": {
        "id": "8nWKtjKIBzkg",
        "colab_type": "code",
        "colab": {}
      },
      "source": [
        "df = pd.read_excel('unit05_data.xls', typ = 'series')\n",
        "df"
      ],
      "execution_count": null,
      "outputs": []
    },
    {
      "cell_type": "code",
      "metadata": {
        "id": "AYzoMY6EC5W-",
        "colab_type": "code",
        "colab": {}
      },
      "source": [
        "df = pd.read_excel('unit05_data.xls',  typ = 'series')\n",
        "\n",
        "gender_and_country = df[(df['Gender']=='Female') & (df['Country']== \"United States\")]\n",
        "gender_and_country"
      ],
      "execution_count": null,
      "outputs": []
    },
    {
      "cell_type": "code",
      "metadata": {
        "id": "lEx_qIi1DS5f",
        "colab_type": "code",
        "colab": {}
      },
      "source": [
        "df = pd.read_excel ('Unit05-Demo53.xls', typ='series')\n",
        "\n",
        "age_and_date =  df[ (df['Age'] >= 25) & (df['Date'] == '21/05/2015') ] \n",
        "age_and_date['First Name'].count()"
      ],
      "execution_count": null,
      "outputs": []
    },
    {
      "cell_type": "markdown",
      "metadata": {
        "id": "Gm8kPGUjNdfB",
        "colab_type": "text"
      },
      "source": [
        "**XML**"
      ]
    },
    {
      "cell_type": "code",
      "metadata": {
        "id": "jNJ2p_VlNb3h",
        "colab_type": "code",
        "colab": {}
      },
      "source": [
        "import xml.etree.ElementTree as ET"
      ],
      "execution_count": null,
      "outputs": []
    },
    {
      "cell_type": "markdown",
      "metadata": {
        "id": "PgRiiJ0GDbxS",
        "colab_type": "text"
      },
      "source": [
        "**XML** in Python"
      ]
    },
    {
      "cell_type": "code",
      "metadata": {
        "id": "lOWYeN9FDy6S",
        "colab_type": "code",
        "colab": {}
      },
      "source": [
        "tree = ET.parse(\"Unit 05 - XML Sample Data.xml\")\n",
        "root = tree.getroot()\n",
        "for child in root:\n",
        "  print(child.tag , child.attrib)"
      ],
      "execution_count": null,
      "outputs": []
    },
    {
      "cell_type": "markdown",
      "metadata": {
        "id": "4FcQjGNVDXvk",
        "colab_type": "text"
      },
      "source": [
        "**XML** in Pandas"
      ]
    },
    {
      "cell_type": "code",
      "metadata": {
        "id": "DUM7Sd7SDZHi",
        "colab_type": "code",
        "colab": {}
      },
      "source": [
        "#parsing xml file and storing in Dataframe\n",
        "\n",
        "tree = ET.parse(\"Unit 05 - XML Sample Data.xml\")\n",
        "\n",
        "dfcols = [\"Country\", \"rank\", \"year\", \"GDP\"]\n",
        "df_xml = pd.DataFrame(columns = dfcols)\n",
        "\n",
        "for node in tree.getroot():\n",
        "    name = node.attrib.get(\"name\")\n",
        "    rank = node.find(\"rank\").text\n",
        "    y = node.find(\"year\").text\n",
        "    gdppc = node.find(\"gdppc\").text\n",
        "    df_xml = df_xml.append(pd.Series([name,rank,y,gdppc], index = dfcols),ignore_index = True)\n",
        "\n",
        "df_xml"
      ],
      "execution_count": null,
      "outputs": []
    },
    {
      "cell_type": "markdown",
      "metadata": {
        "id": "IBWzNtkRFKH2",
        "colab_type": "text"
      },
      "source": [
        "Demo"
      ]
    },
    {
      "cell_type": "code",
      "metadata": {
        "id": "VXzjKluPFdf7",
        "colab_type": "code",
        "colab": {}
      },
      "source": [
        "tree = ET.parse('breakfast_menu.xml')\n",
        "\n",
        "dfcols = [\"food\", \"price\", \"description\", 'calories']\n",
        "df_xml = pd.DataFrame(columns=dfcols)\n",
        "\n",
        "for node in tree.getroot():\n",
        "    name = node.find('name').text\n",
        "    price = node.find('price').text\n",
        "    description = node.find('description').text\n",
        "    calories = node.find('calories').text\n",
        "    \n",
        "    df_xml = df_xml.append( pd.Series([name , price, description, calories],index=dfcols) , ignore_index =True)\n",
        "    \n",
        "df_xml"
      ],
      "execution_count": null,
      "outputs": []
    }
  ]
}